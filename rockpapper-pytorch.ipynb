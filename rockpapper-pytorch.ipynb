{
 "cells": [
  {
   "cell_type": "code",
   "execution_count": 1,
   "id": "255e57b5",
   "metadata": {
    "execution": {
     "iopub.execute_input": "2022-10-20T16:15:20.239839Z",
     "iopub.status.busy": "2022-10-20T16:15:20.239236Z",
     "iopub.status.idle": "2022-10-20T16:15:20.592114Z",
     "shell.execute_reply": "2022-10-20T16:15:20.591092Z"
    },
    "papermill": {
     "duration": 0.361349,
     "end_time": "2022-10-20T16:15:20.594827",
     "exception": false,
     "start_time": "2022-10-20T16:15:20.233478",
     "status": "completed"
    },
    "tags": []
   },
   "outputs": [],
   "source": [
    "import os\n",
    "from os import walk\n",
    "import shutil\n",
    "\n",
    "os.mkdir('validation_new') if not os.path.exists('validation_new') else print('Folder Exist')\n",
    "os.mkdir('validation_new/paper') if not os.path.exists('validation_new/paper') else print('Folder Exist')\n",
    "os.mkdir('validation_new/rock') if not os.path.exists('validation_new/rock') else print('Folder Exist')\n",
    "os.mkdir('validation_new/scissors') if not os.path.exists('validation_new/scissors') else print('Folder Exist')\n",
    "f = []\n",
    "path='../input/rock-paper-scissors-dataset/Rock-Paper-Scissors/validation'\n",
    "for (dirpath, dirnames, filenames) in walk(path):\n",
    "    f.extend(filenames)\n",
    "    break\n",
    "for file in f:\n",
    "    if file.startswith('paper'):\n",
    "        shutil.copyfile(path+'/'+file, 'validation_new/paper/'+file) if not os.path.exists('validation_new/paper/'+file) else print('File Exist')\n",
    "    elif file.startswith('rock'):\n",
    "        shutil.copyfile(path+'/'+file, 'validation_new/rock/'+file) if not os.path.exists('validation_new/paper/'+file) else print('File Exist')\n",
    "    elif file.startswith('scissors'):\n",
    "        shutil.copyfile(path+'/'+file, 'validation_new/scissors/'+file) if not os.path.exists('validation_new/paper/'+file) else print('File Exist')"
   ]
  },
  {
   "cell_type": "code",
   "execution_count": 2,
   "id": "889d7c04",
   "metadata": {
    "execution": {
     "iopub.execute_input": "2022-10-20T16:15:20.603937Z",
     "iopub.status.busy": "2022-10-20T16:15:20.602840Z",
     "iopub.status.idle": "2022-10-20T16:15:22.580164Z",
     "shell.execute_reply": "2022-10-20T16:15:22.579123Z"
    },
    "papermill": {
     "duration": 1.984507,
     "end_time": "2022-10-20T16:15:22.582974",
     "exception": false,
     "start_time": "2022-10-20T16:15:20.598467",
     "status": "completed"
    },
    "tags": []
   },
   "outputs": [],
   "source": [
    "import torch\n",
    "from torchvision import transforms, datasets\n",
    "from torch.utils.data import DataLoader\n",
    "import matplotlib.pyplot as plt\n",
    "from torchvision.models import resnet18\n",
    "from torchvision.models import resnet50\n",
    "from torchvision.models import resnet101\n",
    "from torchvision.models import resnet152\n",
    "\n",
    "import torch.nn as nn\n",
    "import torch.nn.functional as F\n",
    "\n",
    "# from torch.nn import CrossEntropyLoss\n",
    "import torch.optim as optim\n",
    "from torch.nn import Conv2d\n",
    "\n"
   ]
  },
  {
   "cell_type": "code",
   "execution_count": 3,
   "id": "98d9f5c1",
   "metadata": {
    "execution": {
     "iopub.execute_input": "2022-10-20T16:15:22.590859Z",
     "iopub.status.busy": "2022-10-20T16:15:22.589891Z",
     "iopub.status.idle": "2022-10-20T16:15:22.595945Z",
     "shell.execute_reply": "2022-10-20T16:15:22.594784Z"
    },
    "papermill": {
     "duration": 0.012311,
     "end_time": "2022-10-20T16:15:22.598161",
     "exception": false,
     "start_time": "2022-10-20T16:15:22.585850",
     "status": "completed"
    },
    "tags": []
   },
   "outputs": [],
   "source": [
    "device = torch.device(\"cuda:0\" if torch.cuda.is_available() else \"cpu\")\n",
    "\n",
    "# releasing unceseccary memory in GPU\n",
    "if torch.cuda.is_available():\n",
    "    torch.cuda.empty_cache()\n"
   ]
  },
  {
   "cell_type": "code",
   "execution_count": 4,
   "id": "4a84aafc",
   "metadata": {
    "execution": {
     "iopub.execute_input": "2022-10-20T16:15:22.605550Z",
     "iopub.status.busy": "2022-10-20T16:15:22.605098Z",
     "iopub.status.idle": "2022-10-20T16:15:22.610690Z",
     "shell.execute_reply": "2022-10-20T16:15:22.609809Z"
    },
    "papermill": {
     "duration": 0.011544,
     "end_time": "2022-10-20T16:15:22.612709",
     "exception": false,
     "start_time": "2022-10-20T16:15:22.601165",
     "status": "completed"
    },
    "tags": []
   },
   "outputs": [],
   "source": [
    "# Load Data\n",
    "\n",
    "# Transform Images to Tensor \n",
    "# and Convert to Grayscale\n",
    "data_transform = transforms.Compose([\n",
    "        transforms.ToTensor(),\n",
    "        transforms.Resize(size=(224,224))\n",
    "        # transforms.Grayscale()\n",
    "    ])\n"
   ]
  },
  {
   "cell_type": "code",
   "execution_count": 5,
   "id": "9a0c6ffd",
   "metadata": {
    "execution": {
     "iopub.execute_input": "2022-10-20T16:15:22.620209Z",
     "iopub.status.busy": "2022-10-20T16:15:22.619623Z",
     "iopub.status.idle": "2022-10-20T16:15:23.741893Z",
     "shell.execute_reply": "2022-10-20T16:15:23.740765Z"
    },
    "papermill": {
     "duration": 1.129238,
     "end_time": "2022-10-20T16:15:23.744700",
     "exception": false,
     "start_time": "2022-10-20T16:15:22.615462",
     "status": "completed"
    },
    "tags": []
   },
   "outputs": [],
   "source": [
    "# Load images from train folder\n",
    "# ?Choose correct folder path according to dataset\n",
    "Data_train=datasets.ImageFolder(root='../input/rock-paper-scissors-dataset/Rock-Paper-Scissors/train/',\n",
    "                                           transform=data_transform)\n",
    "# Load images from test folder\n",
    "# ?Choose correct folder path according to dataset\n",
    "Data_test=datasets.ImageFolder(root='../input/rock-paper-scissors-dataset/Rock-Paper-Scissors/test/',\n",
    "                                           transform=data_transform)\n",
    "# Load images from validation folder\n",
    "# ?Choose correct folder path according to dataset\n",
    "Data_val=datasets.ImageFolder(root='./validation_new/',\n",
    "                                           transform=data_transform)\n",
    "\n",
    "\n"
   ]
  },
  {
   "cell_type": "code",
   "execution_count": 6,
   "id": "96d5e05b",
   "metadata": {
    "execution": {
     "iopub.execute_input": "2022-10-20T16:15:23.752212Z",
     "iopub.status.busy": "2022-10-20T16:15:23.751435Z",
     "iopub.status.idle": "2022-10-20T16:15:23.758428Z",
     "shell.execute_reply": "2022-10-20T16:15:23.757631Z"
    },
    "papermill": {
     "duration": 0.014664,
     "end_time": "2022-10-20T16:15:23.762226",
     "exception": false,
     "start_time": "2022-10-20T16:15:23.747562",
     "status": "completed"
    },
    "tags": []
   },
   "outputs": [
    {
     "name": "stdout",
     "output_type": "stream",
     "text": [
      "Train data: 1260\n",
      "Test data: 186\n",
      "Val data: 17\n"
     ]
    }
   ],
   "source": [
    "# Load data for pytorch\n",
    "\n",
    "trainset=DataLoader(Data_train,batch_size=2,shuffle=True)\n",
    "\n",
    "testset=DataLoader(Data_test,batch_size=2,shuffle=True)\n",
    "\n",
    "valset=DataLoader(Data_val,batch_size=2,shuffle=True)\n",
    "\n",
    "\n",
    "# Data will be divided by batch size (10)\n",
    "print(f\"Train data: {len(trainset)}\")\n",
    "print(f\"Test data: {len(testset)}\")\n",
    "print(f\"Val data: {len(valset)}\")\n",
    "\n"
   ]
  },
  {
   "cell_type": "code",
   "execution_count": null,
   "id": "acac2061",
   "metadata": {
    "papermill": {
     "duration": 0.002543,
     "end_time": "2022-10-20T16:15:23.767746",
     "exception": false,
     "start_time": "2022-10-20T16:15:23.765203",
     "status": "completed"
    },
    "tags": []
   },
   "outputs": [],
   "source": []
  }
 ],
 "metadata": {
  "kernelspec": {
   "display_name": "Python 3",
   "language": "python",
   "name": "python3"
  },
  "language_info": {
   "codemirror_mode": {
    "name": "ipython",
    "version": 3
   },
   "file_extension": ".py",
   "mimetype": "text/x-python",
   "name": "python",
   "nbconvert_exporter": "python",
   "pygments_lexer": "ipython3",
   "version": "3.7.12"
  },
  "papermill": {
   "default_parameters": {},
   "duration": 13.227793,
   "end_time": "2022-10-20T16:15:24.592302",
   "environment_variables": {},
   "exception": null,
   "input_path": "__notebook__.ipynb",
   "output_path": "__notebook__.ipynb",
   "parameters": {},
   "start_time": "2022-10-20T16:15:11.364509",
   "version": "2.3.4"
  }
 },
 "nbformat": 4,
 "nbformat_minor": 5
}
