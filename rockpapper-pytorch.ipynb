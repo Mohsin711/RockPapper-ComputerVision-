{
 "cells": [
  {
   "cell_type": "code",
   "execution_count": 1,
   "id": "05820764",
   "metadata": {
    "_cell_guid": "b1076dfc-b9ad-4769-8c92-a6c4dae69d19",
    "_uuid": "8f2839f25d086af736a60e9eeb907d3b93b6e0e5",
    "execution": {
     "iopub.execute_input": "2022-10-19T12:49:40.764574Z",
     "iopub.status.busy": "2022-10-19T12:49:40.763933Z",
     "iopub.status.idle": "2022-10-19T12:49:41.547078Z",
     "shell.execute_reply": "2022-10-19T12:49:41.545731Z"
    },
    "papermill": {
     "duration": 0.791338,
     "end_time": "2022-10-19T12:49:41.550139",
     "exception": false,
     "start_time": "2022-10-19T12:49:40.758801",
     "status": "completed"
    },
    "tags": []
   },
   "outputs": [
    {
     "name": "stdout",
     "output_type": "stream",
     "text": [
      "/kaggle/input\n",
      "/kaggle/input/rock-paper-scissors-dataset\n",
      "/kaggle/input/rock-paper-scissors-dataset/Rock-Paper-Scissors\n",
      "/kaggle/input/rock-paper-scissors-dataset/Rock-Paper-Scissors/validation\n",
      "/kaggle/input/rock-paper-scissors-dataset/Rock-Paper-Scissors/test\n",
      "/kaggle/input/rock-paper-scissors-dataset/Rock-Paper-Scissors/test/paper\n",
      "/kaggle/input/rock-paper-scissors-dataset/Rock-Paper-Scissors/test/rock\n",
      "/kaggle/input/rock-paper-scissors-dataset/Rock-Paper-Scissors/test/scissors\n",
      "/kaggle/input/rock-paper-scissors-dataset/Rock-Paper-Scissors/train\n",
      "/kaggle/input/rock-paper-scissors-dataset/Rock-Paper-Scissors/train/paper\n",
      "/kaggle/input/rock-paper-scissors-dataset/Rock-Paper-Scissors/train/rock\n",
      "/kaggle/input/rock-paper-scissors-dataset/Rock-Paper-Scissors/train/scissors\n",
      "/kaggle/input/rock-paper-scissors-dataset/rock-paper-scissors\n",
      "/kaggle/input/rock-paper-scissors-dataset/rock-paper-scissors/Rock-Paper-Scissors\n",
      "/kaggle/input/rock-paper-scissors-dataset/rock-paper-scissors/Rock-Paper-Scissors/validation\n",
      "/kaggle/input/rock-paper-scissors-dataset/rock-paper-scissors/Rock-Paper-Scissors/test\n",
      "/kaggle/input/rock-paper-scissors-dataset/rock-paper-scissors/Rock-Paper-Scissors/test/paper\n",
      "/kaggle/input/rock-paper-scissors-dataset/rock-paper-scissors/Rock-Paper-Scissors/test/rock\n",
      "/kaggle/input/rock-paper-scissors-dataset/rock-paper-scissors/Rock-Paper-Scissors/test/scissors\n",
      "/kaggle/input/rock-paper-scissors-dataset/rock-paper-scissors/Rock-Paper-Scissors/train\n",
      "/kaggle/input/rock-paper-scissors-dataset/rock-paper-scissors/Rock-Paper-Scissors/train/paper\n",
      "/kaggle/input/rock-paper-scissors-dataset/rock-paper-scissors/Rock-Paper-Scissors/train/rock\n",
      "/kaggle/input/rock-paper-scissors-dataset/rock-paper-scissors/Rock-Paper-Scissors/train/scissors\n"
     ]
    }
   ],
   "source": [
    "# This Python 3 environment comes with many helpful analytics libraries installed\n",
    "# It is defined by the kaggle/python Docker image: https://github.com/kaggle/docker-python\n",
    "# For example, here's several helpful packages to load\n",
    "\n",
    "import numpy as np # linear algebra\n",
    "import pandas as pd # data processing, CSV file I/O (e.g. pd.read_csv)\n",
    "\n",
    "# Input data files are available in the read-only \"../input/\" directory\n",
    "# For example, running this (by clicking run or pressing Shift+Enter) will list all files under the input directory\n",
    "\n",
    "import os\n",
    "for dirname, _, filenames in os.walk('/kaggle/input'):\n",
    "    print(dirname)\n",
    "\n",
    "# You can write up to 20GB to the current directory (/kaggle/working/) that gets preserved as output when you create a version using \"Save & Run All\" \n",
    "# You can also write temporary files to /kaggle/temp/, but they won't be saved outside of the current session"
   ]
  }
 ],
 "metadata": {
  "kernelspec": {
   "display_name": "Python 3",
   "language": "python",
   "name": "python3"
  },
  "language_info": {
   "codemirror_mode": {
    "name": "ipython",
    "version": 3
   },
   "file_extension": ".py",
   "mimetype": "text/x-python",
   "name": "python",
   "nbconvert_exporter": "python",
   "pygments_lexer": "ipython3",
   "version": "3.7.12"
  },
  "papermill": {
   "default_parameters": {},
   "duration": 11.027368,
   "end_time": "2022-10-19T12:49:42.272702",
   "environment_variables": {},
   "exception": null,
   "input_path": "__notebook__.ipynb",
   "output_path": "__notebook__.ipynb",
   "parameters": {},
   "start_time": "2022-10-19T12:49:31.245334",
   "version": "2.3.4"
  }
 },
 "nbformat": 4,
 "nbformat_minor": 5
}
